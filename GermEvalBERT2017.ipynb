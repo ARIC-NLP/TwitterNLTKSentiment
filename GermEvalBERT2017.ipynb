{
  "nbformat": 4,
  "nbformat_minor": 0,
  "metadata": {
    "colab": {
      "name": "GermEvalBERT2017",
      "provenance": [],
      "machine_shape": "hm"
    },
    "kernelspec": {
      "name": "python3",
      "display_name": "Python 3"
    },
    "accelerator": "GPU"
  },
  "cells": [
    {
      "cell_type": "code",
      "metadata": {
        "id": "To9ENLU90WGl"
      },
      "source": [
        "%%capture\n",
        "!pip install transformers"
      ],
      "execution_count": 3,
      "outputs": []
    },
    {
      "cell_type": "code",
      "metadata": {
        "id": "fvFvBLJV0Dkv"
      },
      "source": [
        "import numpy as np\n",
        "import pandas as pd\n",
        "from sklearn.model_selection import train_test_split\n",
        "from sklearn.linear_model import LogisticRegression\n",
        "from sklearn import model_selection\n",
        "from sklearn.tree import DecisionTreeClassifier\n",
        "from sklearn.model_selection import GridSearchCV\n",
        "from sklearn.model_selection import cross_val_score\n",
        "import torch\n",
        "import transformers as ppb\n",
        "import warnings\n",
        "warnings.filterwarnings('ignore')"
      ],
      "execution_count": 48,
      "outputs": []
    },
    {
      "cell_type": "code",
      "metadata": {
        "id": "3dVLiWtVkA1r",
        "colab": {
          "base_uri": "https://localhost:8080/"
        },
        "outputId": "0d701f7b-d988-4987-bf57-c158eada5da4"
      },
      "source": [
        "\n",
        "#import os\n",
        "#import json\n",
        " \n",
        "#from google.colab import drive\n",
        "#drive.mount('/content/gdrive')\n",
        "#df2 = pd.read_csv('gdrive/My Drive/germeval2017clean.csv', delimiter=',')\n"
      ],
      "execution_count": 5,
      "outputs": [
        {
          "output_type": "stream",
          "text": [
            "Mounted at /content/gdrive\n"
          ],
          "name": "stdout"
        }
      ]
    },
    {
      "cell_type": "code",
      "metadata": {
        "id": "S6jDD4QZjbAH"
      },
      "source": [
        "\n"
      ],
      "execution_count": 6,
      "outputs": []
    },
    {
      "cell_type": "markdown",
      "metadata": {
        "id": "zQ-42fh0hjsF"
      },
      "source": [
        "## Importing the dataset\n"
      ]
    },
    {
      "cell_type": "code",
      "metadata": {
        "id": "cyoj29J24hPX"
      },
      "source": [
        "df2 = pd.read_csv('https://raw.githubusercontent.com/ARIC-NLP/TwitterNLTKSentiment/main/germeval2017clean.csv', delimiter=',')"
      ],
      "execution_count": 49,
      "outputs": []
    },
    {
      "cell_type": "markdown",
      "metadata": {
        "id": "dMVE3waNhuNj"
      },
      "source": [
        "Dataset is somewhat unbalanced"
      ]
    },
    {
      "cell_type": "code",
      "metadata": {
        "id": "AzpAguDyPSoX",
        "colab": {
          "base_uri": "https://localhost:8080/"
        },
        "outputId": "c3ac90e5-c844-4c44-d4db-5d8aa4e8da5b"
      },
      "source": [
        "df2['sentiment'].value_counts()"
      ],
      "execution_count": 50,
      "outputs": [
        {
          "output_type": "execute_result",
          "data": {
            "text/plain": [
              "neutral     1253\n",
              "negative     610\n",
              "positive     155\n",
              "Name: sentiment, dtype: int64"
            ]
          },
          "metadata": {
            "tags": []
          },
          "execution_count": 50
        }
      ]
    },
    {
      "cell_type": "markdown",
      "metadata": {
        "id": "7_MO08_KiAOb"
      },
      "source": [
        "## Loading the Pre-trained BERT model "
      ]
    },
    {
      "cell_type": "code",
      "metadata": {
        "id": "q1InADgf5xm2"
      },
      "source": [
        "\n",
        "model_class, tokenizer_class, pretrained_weights = (ppb.BertModel, ppb.BertTokenizer, 'deepset/bert-base-german-cased-sentiment-Germeval17')\n",
        "\n",
        "\n",
        "# Load pretrained model/tokenizer\n",
        "tokenizer = tokenizer_class.from_pretrained(pretrained_weights)\n",
        "model = model_class.from_pretrained(pretrained_weights)"
      ],
      "execution_count": 51,
      "outputs": []
    },
    {
      "cell_type": "markdown",
      "metadata": {
        "id": "v1brk62Q3Y8B"
      },
      "source": [
        "##Tokenize, pad up to max len of 30 and create attention mask"
      ]
    },
    {
      "cell_type": "code",
      "metadata": {
        "id": "Dg82ndBA5xlN"
      },
      "source": [
        "tokenized = df2['text'].apply((lambda x: tokenizer.encode(x, add_special_tokens=True, truncation=True,max_length=30)))\n",
        "\n",
        "#pad up to 30 tokens\n",
        "max_len = 0\n",
        "for i in tokenized.values:\n",
        "    if len(i) > max_len:\n",
        "        max_len = len(i)\n",
        "\n",
        "padded = np.array([i + [0]*(max_len-len(i)) for i in tokenized.values])\n",
        "\n",
        "attention_mask = np.where(padded != 0, 1, 0)"
      ],
      "execution_count": 13,
      "outputs": []
    },
    {
      "cell_type": "markdown",
      "metadata": {
        "id": "scCIx7Vw1O-v"
      },
      "source": [
        "##Feed data into transfomer and get last hidden state"
      ]
    },
    {
      "cell_type": "code",
      "metadata": {
        "id": "39UVjAV56PJz",
        "colab": {
          "base_uri": "https://localhost:8080/"
        },
        "outputId": "3ea71f09-df17-4d81-af4b-b6304a76a367"
      },
      "source": [
        "%%time\n",
        "\n",
        "input_ids = torch.tensor(padded)  \n",
        "attention_mask = torch.tensor(attention_mask)\n",
        "\n",
        "with torch.no_grad():\n",
        "    last_hidden_states = model(input_ids, attention_mask=attention_mask)"
      ],
      "execution_count": 55,
      "outputs": [
        {
          "output_type": "stream",
          "text": [
            "CPU times: user 2min 58s, sys: 1.41 s, total: 3min\n",
            "Wall time: 1min 30s\n"
          ],
          "name": "stdout"
        }
      ]
    },
    {
      "cell_type": "markdown",
      "metadata": {
        "id": "_VZVU66Gurr-"
      },
      "source": [
        "Labels are our sentiments and features are the vectors of the last hidden state of BERT"
      ]
    },
    {
      "cell_type": "code",
      "metadata": {
        "id": "JD3fX2yh6PTx"
      },
      "source": [
        "features = last_hidden_states[0][:,0,:].numpy()\n",
        "labels = df2['sentiment']"
      ],
      "execution_count": 57,
      "outputs": []
    },
    {
      "cell_type": "markdown",
      "metadata": {
        "id": "iaoEvM2evRx1"
      },
      "source": [
        " Train/Test Split\n"
      ]
    },
    {
      "cell_type": "code",
      "metadata": {
        "id": "ddAqbkoU6PP9"
      },
      "source": [
        "train_features, test_features, train_labels, test_labels = train_test_split(features, labels)\n"
      ],
      "execution_count": 58,
      "outputs": []
    },
    {
      "cell_type": "markdown",
      "metadata": {
        "id": "B9bhSJpcv1Bl"
      },
      "source": [
        "<img src=\"https://jalammar.github.io/images/distilBERT/bert-distilbert-train-test-split-sentence-embedding.png\" />\n",
        "\n",
        "### Grid Search for Parameters\n",
        "\n",
        "."
      ]
    },
    {
      "cell_type": "code",
      "metadata": {
        "id": "cyEwr7yYD3Ci",
        "colab": {
          "base_uri": "https://localhost:8080/"
        },
        "outputId": "bc4b5a6c-70f4-4947-a0c8-349e566a8fee"
      },
      "source": [
        "parameters = {'C': np.linspace(0.0001, 100, 20)}\n",
        "grid_search = GridSearchCV(LogisticRegression(), parameters)\n",
        "grid_search.fit(train_features, train_labels)\n",
        "\n",
        "print('best parameters: ', grid_search.best_params_)\n",
        "print('best scrores: ', grid_search.best_score_)"
      ],
      "execution_count": 24,
      "outputs": [
        {
          "output_type": "stream",
          "text": [
            "best parameters:  {'C': 0.0001}\n",
            "best scrores:  0.7422464100714707\n"
          ],
          "name": "stdout"
        }
      ]
    },
    {
      "cell_type": "code",
      "metadata": {
        "id": "gG-EVWx4CzBc",
        "colab": {
          "base_uri": "https://localhost:8080/"
        },
        "outputId": "45482d39-9ca0-4a27-d9d0-20ed989b7fd1"
      },
      "source": [
        "from sklearn.tree import DecisionTreeClassifier\n",
        "#clf = LogisticRegression(C=0.0001)\n",
        "#lr_clf = DecisionTreeClassifier()\n",
        "\n",
        "from sklearn.ensemble import RandomForestClassifier\n",
        "clf = RandomForestClassifier(max_depth=2, random_state=0)\n",
        "\n",
        "\n",
        "clf.fit(train_features, train_labels)"
      ],
      "execution_count": 100,
      "outputs": [
        {
          "output_type": "execute_result",
          "data": {
            "text/plain": [
              "RandomForestClassifier(bootstrap=True, ccp_alpha=0.0, class_weight=None,\n",
              "                       criterion='gini', max_depth=2, max_features='auto',\n",
              "                       max_leaf_nodes=None, max_samples=None,\n",
              "                       min_impurity_decrease=0.0, min_impurity_split=None,\n",
              "                       min_samples_leaf=1, min_samples_split=2,\n",
              "                       min_weight_fraction_leaf=0.0, n_estimators=100,\n",
              "                       n_jobs=None, oob_score=False, random_state=0, verbose=0,\n",
              "                       warm_start=False)"
            ]
          },
          "metadata": {
            "tags": []
          },
          "execution_count": 100
        }
      ]
    },
    {
      "cell_type": "code",
      "metadata": {
        "id": "iCoyxRJ7ECTA",
        "colab": {
          "base_uri": "https://localhost:8080/"
        },
        "outputId": "5f1fb0fb-9bc9-43fb-b2be-16cd31ad80bb"
      },
      "source": [
        "clf.score(test_features, test_labels)"
      ],
      "execution_count": 101,
      "outputs": [
        {
          "output_type": "execute_result",
          "data": {
            "text/plain": [
              "0.7564356435643564"
            ]
          },
          "metadata": {
            "tags": []
          },
          "execution_count": 101
        }
      ]
    },
    {
      "cell_type": "code",
      "metadata": {
        "id": "FZCdx8vs9lY-"
      },
      "source": [
        "pred= clf.predict(test_features)\n",
        "\n"
      ],
      "execution_count": 102,
      "outputs": []
    },
    {
      "cell_type": "code",
      "metadata": {
        "colab": {
          "base_uri": "https://localhost:8080/"
        },
        "id": "oEIuGPvUgkiO",
        "outputId": "fe33cd1b-3f5c-4681-d0ff-405fcffe68d6"
      },
      "source": [
        "from sklearn.metrics import classification_report\n",
        "class_names = ['negative', 'neutral', 'positive']\n",
        "print(classification_report(test_labels, pred, target_names=class_names))"
      ],
      "execution_count": 103,
      "outputs": [
        {
          "output_type": "stream",
          "text": [
            "              precision    recall  f1-score   support\n",
            "\n",
            "    negative       0.81      0.55      0.66       164\n",
            "     neutral       0.74      0.93      0.82       306\n",
            "    positive       0.88      0.20      0.33        35\n",
            "\n",
            "    accuracy                           0.76       505\n",
            "   macro avg       0.81      0.56      0.60       505\n",
            "weighted avg       0.77      0.76      0.73       505\n",
            "\n"
          ],
          "name": "stdout"
        }
      ]
    },
    {
      "cell_type": "code",
      "metadata": {
        "id": "3R4sgJOa915g",
        "colab": {
          "base_uri": "https://localhost:8080/",
          "height": 54
        },
        "outputId": "85066ff3-d692-4727-cac8-b774a626067a"
      },
      "source": [
        "n = 203\n",
        "start  = len(test_features)+n\n",
        "print(start,df2.iloc[start]['text'],df2.iloc[start]['sentiment'])\n",
        "pred[n]"
      ],
      "execution_count": 104,
      "outputs": [
        {
          "output_type": "stream",
          "text": [
            "708 Sich betrinkende Menschen in der Bahn mag ich positive\n"
          ],
          "name": "stdout"
        },
        {
          "output_type": "execute_result",
          "data": {
            "application/vnd.google.colaboratory.intrinsic+json": {
              "type": "string"
            },
            "text/plain": [
              "'negative'"
            ]
          },
          "metadata": {
            "tags": []
          },
          "execution_count": 104
        }
      ]
    },
    {
      "cell_type": "code",
      "metadata": {
        "id": "kVUkfYJAoY4f"
      },
      "source": [
        "#Test with sentences"
      ],
      "execution_count": 125,
      "outputs": []
    },
    {
      "cell_type": "code",
      "metadata": {
        "id": "u1g-K-G8oaod"
      },
      "source": [
        "def infer(sent,model):\n",
        "  tokened= tokenizer.encode(sent, add_special_tokens=True, truncation=True,max_length=30)\n",
        "  #pad up\n",
        "  N=30\n",
        "  tokened += [0] * (N - len(tokened))\n",
        "  pad0 = np.reshape(tokened, (1, 30))\n",
        "  attention_mask0 = np.where(pad0 != 0, 1, 0)\n",
        "\n",
        "  input_ids = torch.tensor(pad0)  \n",
        "  attention_mask1 = torch.tensor(attention_mask0)\n",
        "\n",
        "  with torch.no_grad():\n",
        "    last_hidden_state0 = model(input_ids, attention_mask=attention_mask1)\n",
        "  feature0 = last_hidden_state0[0][:,0,:].numpy()\n",
        "  pred0=lr_clf.predict(feature0)\n",
        "  return pred0[0]\n",
        "  "
      ],
      "execution_count": 105,
      "outputs": []
    },
    {
      "cell_type": "code",
      "metadata": {
        "colab": {
          "base_uri": "https://localhost:8080/",
          "height": 37
        },
        "id": "m5ffQGZOoZER",
        "outputId": "00738bef-30b9-4fd8-8cf9-5c0a849f2a11"
      },
      "source": [
        "\n",
        "infer('Was soll der Quatsch? falsches Gleis und Verspätung',model)"
      ],
      "execution_count": 106,
      "outputs": [
        {
          "output_type": "execute_result",
          "data": {
            "application/vnd.google.colaboratory.intrinsic+json": {
              "type": "string"
            },
            "text/plain": [
              "'negative'"
            ]
          },
          "metadata": {
            "tags": []
          },
          "execution_count": 106
        }
      ]
    }
  ]
}